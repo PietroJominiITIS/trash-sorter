{
 "cells": [
  {
   "cell_type": "markdown",
   "id": "august-horizontal",
   "metadata": {},
   "source": [
    "# Trash sorter with keras and teachable machines"
   ]
  }
 ],
 "metadata": {
  "kernelspec": {
   "display_name": "Python 3.9.1 64-bit",
   "language": "python",
   "name": "python39164bit2785c6e446eb4733beeda20f82ea9fff"
  },
  "language_info": {
   "codemirror_mode": {
    "name": "ipython",
    "version": 3
   },
   "file_extension": ".py",
   "mimetype": "text/x-python",
   "name": "python",
   "nbconvert_exporter": "python",
   "pygments_lexer": "ipython3",
   "version": "3.9.1"
  }
 },
 "nbformat": 4,
 "nbformat_minor": 5
}
